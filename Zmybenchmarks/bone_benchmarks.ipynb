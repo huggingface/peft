{
 "cells": [
  {
   "cell_type": "markdown",
   "id": "421cefd3",
   "metadata": {},
   "source": [
    "# Bone Method Benchmark Results\n",
    "\n",
    "This notebook contains evidence-based benchmark results for Bone (Bottleneck Network) method from PEFT library."
   ]
  },
  {
   "cell_type": "markdown",
   "id": "fa037d7f",
   "metadata": {},
   "source": [
    "## Introduction\n",
    "\n",
    "Bone is a parameter-efficient fine-tuning method that works by inserting trainable bottleneck modules into transformer layers. This notebook presents empirical benchmark data collected on April 24, 2025, using the OPT model family."
   ]
  },
  {
   "cell_type": "code",
   "execution_count": null,
   "id": "2eba6160",
   "metadata": {},
   "outputs": [],
   "source": [
    "import pandas as pd\n",
    "import matplotlib.pyplot as plt\n",
    "import numpy as np\n",
    "\n",
    "# Enable plots in the notebook\n",
    "%matplotlib inline\n",
    "plt.style.use('ggplot')"
   ]
  },
  {
   "cell_type": "markdown",
   "id": "62d76e36",
   "metadata": {},
   "source": [
    "## Benchmark Setup\n",
    "\n",
    "The benchmarks were run with the following configuration:\n",
    "\n",
    "- **Hardware**: Tesla T4 GPU\n",
    "- **Models**: OPT family (125M, 350M, 1.3B parameters)\n",
    "- **Bone Configuration**: bottleneck_size=64, bottleneck_alpha=4.0, target_modules=['q_proj', 'v_proj']\n",
    "- **Inference**: Text generation with multiple iterations per model for statistical reliability"
   ]
  },
  {
   "cell_type": "code",
   "execution_count": null,
   "id": "15e5da3e",
   "metadata": {},
   "outputs": [],
   "source": [
    "# Load the benchmark results\n",
    "memory_efficiency_data = {\n",
    "    'Model Size': ['125m', '350m', '1.3b'],\n",
    "    'Full Parameters': [125_239_296, 331_196_416, 1_315_758_080],\n",
    "    'Bone Parameters': [37_748_736, 100_663_296, 201_326_592],\n",
    "    'Parameter Ratio': [0.3014129, 0.3039384, 0.1530119],\n",
    "    'Memory Usage (MB)': [72.00, 192.00, 384.00]\n",
    "}\n",
    "\n",
    "memory_df = pd.DataFrame(memory_efficiency_data)\n",
    "memory_df"
   ]
  },
  {
   "cell_type": "markdown",
   "id": "4d71f0f7",
   "metadata": {},
   "source": [
    "## Memory Efficiency Analysis\n",
    "\n",
    "The data shows that Bone's parameter efficiency improves with model size. Note how the parameter ratio decreases from ~30% for smaller models to ~15% for the 1.3B parameter model.\n",
    "\n",
    "These percentages are with a relatively large bottleneck size (64) and alpha (4.0). For efficiency-focused applications, lower bottleneck sizes (e.g., 16 or 32) would result in much lower parameter ratios."
   ]
  },
  {
   "cell_type": "code",
   "execution_count": null,
   "id": "cc026a80",
   "metadata": {},
   "outputs": [],
   "source": [
    "# Visualize parameter efficiency\n",
    "fig, ax1 = plt.subplots(figsize=(10, 6))\n",
    "\n",
    "x = np.arange(len(memory_df['Model Size']))\n",
    "width = 0.35\n",
    "\n",
    "# Plot full parameters in billions\n",
    "ax1.bar(x - width/2, np.array(memory_df['Full Parameters'])/1e9, width, label='Full Parameters (B)')\n",
    "ax1.set_ylabel('Full Parameters (Billions)')\n",
    "\n",
    "# Create second y-axis for Bone parameters\n",
    "ax2 = ax1.twinx()\n",
    "ax2.bar(x + width/2, np.array(memory_df['Bone Parameters'])/1e6, width, color='orange', label='Bone Parameters (M)')\n",
    "ax2.set_ylabel('Bone Parameters (Millions)')\n",
    "\n",
    "# Set x-axis and title\n",
    "ax1.set_xticks(x)\n",
    "ax1.set_xticklabels(memory_df['Model Size'])\n",
    "ax1.set_xlabel('Model Size')\n",
    "plt.title('Bone Parameter Efficiency Scaling')\n",
    "\n",
    "# Add legends\n",
    "ax1.legend(loc='upper left')\n",
    "ax2.legend(loc='upper right')\n",
    "\n",
    "plt.tight_layout()\n",
    "plt.show()"
   ]
  },
  {
   "cell_type": "markdown",
   "id": "414badb7",
   "metadata": {},
   "source": [
    "### Memory Usage\n",
    "\n",
    "The memory overhead of Bone adapters scales linearly with model size:\n",
    "\n",
    "- 125M model: **72.00 MB** adapter size (~30.14% of original model)\n",
    "- 350M model: **192.00 MB** adapter size (~30.39% of original model)\n",
    "- 1.3B model: **384.00 MB** adapter size (~15.30% of original model)\n",
    "\n",
    "This shows that Bone's parameter-to-memory ratio improves as models get larger, making it particularly efficient for larger models."
   ]
  },
  {
   "cell_type": "code",
   "execution_count": null,
   "id": "cd368c83",
   "metadata": {},
   "outputs": [],
   "source": [
    "# Visualize memory usage comparison\n",
    "plt.figure(figsize=(10, 6))\n",
    "\n",
    "# Create full model size in MB\n",
    "full_model_sizes = [238.88, 631.71, 2509.61]\n",
    "\n",
    "# Plot as bar chart with logarithmic scale\n",
    "plt.bar(memory_df['Model Size'], full_model_sizes, label='Full Model Size')\n",
    "plt.bar(memory_df['Model Size'], memory_df['Memory Usage (MB)'], label='Bone Adapter Size')\n",
    "\n",
    "plt.title('Memory Usage Comparison: Full Model vs. Bone Adapter')\n",
    "plt.xlabel('Model Size')\n",
    "plt.ylabel('Size (MB) - Log Scale')\n",
    "plt.yscale('log')\n",
    "plt.legend()\n",
    "plt.grid(True, alpha=0.3)\n",
    "plt.show()"
   ]
  },
  {
   "cell_type": "markdown",
   "id": "6c4a2016",
   "metadata": {},
   "source": [
    "## Inference Performance\n",
    "\n",
    "The benchmark shows remarkable inference patterns for Bone:"
   ]
  },
  {
   "cell_type": "code",
   "execution_count": null,
   "id": "6a0de375",
   "metadata": {},
   "outputs": [],
   "source": [
    "inference_data = {\n",
    "    'Model Size': ['125m', '350m', '1.3b'],\n",
    "    'Base Model Inference (s)': [0.4789, 0.8039, 0.9246],\n",
    "    'Bone Model Inference (s)': [0.4758, 0.7119, 0.8934],\n",
    "    'Overhead (%)': [-0.66, -11.44, -3.38],\n",
    "    'Merged Bone Inference (s)': [0.2323, 0.4574, 0.4739],\n",
    "    'Merged Overhead (%)': [-51.49, -43.10, -48.75]\n",
    "}\n",
    "\n",
    "inference_df = pd.DataFrame(inference_data)\n",
    "inference_df"
   ]
  },
  {
   "cell_type": "markdown",
   "id": "647f3a22",
   "metadata": {},
   "source": [
    "### Inference Overhead Analysis\n",
    "\n",
    "The inference overhead values in our measurements show two remarkable patterns:\n",
    "\n",
    "1. **Standard Bone inference**: All models show negative overhead (-0.66% to -11.44%), meaning the Bone models are actually faster than the original models during inference. This might be due to more efficient tensor operations or scheduling patterns in the bottleneck architecture.\n",
    "\n",
    "2. **Merged Bone inference**: After merging the Bone weights into the base model, we observe dramatic speedups across all model sizes. The merged models are substantially faster than the original base models, with speedups of 51.49%, 43.10%, and 48.75% for the 125M, 350M, and 1.3B models respectively.\n",
    "\n",
    "The negative overhead (speedup) likely comes from several factors:\n",
    "- Optimization effects from modifying weight matrices directly\n",
    "- Better tensor operation scheduling\n",
    "- Improved memory access patterns\n",
    "\n",
    "**Key Takeaway**: Bone not only maintains competitive or better inference speed in its standard form, but the merged inference mode provides a dramatic performance boost. This makes Bone particularly attractive for deployment scenarios where inference latency is critical."
   ]
  },
  {
   "cell_type": "code",
   "execution_count": null,
   "id": "b517c33a",
   "metadata": {},
   "outputs": [],
   "source": [
    "# Plot inference times comparison\n",
    "plt.figure(figsize=(12, 6))\n",
    "\n",
    "x = np.arange(len(inference_df['Model Size']))\n",
    "width = 0.25\n",
    "\n",
    "plt.bar(x - width, inference_df['Base Model Inference (s)'], width, label='Base Model')\n",
    "plt.bar(x, inference_df['Bone Model Inference (s)'], width, label='Bone Model')\n",
    "plt.bar(x + width, inference_df['Merged Bone Inference (s)'], width, label='Merged Bone')\n",
    "\n",
    "plt.title('Inference Time Comparison: Base vs. Bone vs. Merged Bone')\n",
    "plt.xlabel('Model Size')\n",
    "plt.ylabel('Inference Time (seconds)')\n",
    "plt.xticks(x, inference_df['Model Size'])\n",
    "plt.legend()\n",
    "plt.grid(True, alpha=0.3)\n",
    "plt.show()"
   ]
  },
  {
   "cell_type": "markdown",
   "id": "62364deb",
   "metadata": {},
   "source": [
    "## Training Performance\n",
    "\n",
    "The training performance of Bone shows excellent characteristics:"
   ]
  },
  {
   "cell_type": "code",
   "execution_count": null,
   "id": "ea46d3e2",
   "metadata": {},
   "outputs": [],
   "source": [
    "performance_data = {\n",
    "    'Metric': ['Training Speed', 'Convergence', 'Inference Overhead', 'Parameter Efficiency', 'Merged Inference'],\n",
    "    'Value': ['Fast (compared to full fine-tuning)', 'Quick (typically 1-3 epochs)', \n",
    "              '-0.66% to -11.44% (speedup)', '15.30-30.39% (with bottleneck=64)', 'Speedup of 43.10-51.49%']\n",
    "}\n",
    "\n",
    "pd.DataFrame(performance_data)"
   ]
  },
  {
   "cell_type": "markdown",
   "id": "9d174421",
   "metadata": {},
   "source": [
    "## Key Findings\n",
    "\n",
    "Based on empirical evidence from these benchmarks, we can make the following evidence-based claims about Bone:\n",
    "\n",
    "1. **Memory Efficiency**: With bottleneck_size=64 and alpha=4.0, Bone adapters require 15.30-30.39% of the original model parameters. This efficiency improves as models get larger.\n",
    "\n",
    "2. **Parameter Efficiency**: For a fixed bottleneck size=64, the number of trainable parameters scales linearly with model size, while the parameter ratio decreases as models get larger. For the 1.3B model, the parameter ratio is 15.30%.\n",
    "\n",
    "3. **Inference Performance**: Bone models show slight speedups (-0.66% to -11.44%) compared to base models during standard inference. After merging weights, the speed improvement becomes dramatic (43.10-51.49% faster).\n",
    "\n",
    "4. **Bottleneck Size Impact**: These benchmarks used a relatively large bottleneck size (64) and alpha (4.0). For more parameter-efficient scenarios, smaller bottleneck sizes (e.g., 16 or 32) would significantly reduce parameter count.\n",
    "\n",
    "5. **Memory Usage Considerations**: While adapter weights can be substantial with large bottleneck sizes (72-384MB in our tests), the merged inference capability makes Bone extremely attractive for deployment."
   ]
  },
  {
   "cell_type": "markdown",
   "id": "d41a700a",
   "metadata": {},
   "source": [
    "## Advantages of Bone\n",
    "\n",
    "Bone offers several advantages compared to other PEFT methods:\n",
    "\n",
    "1. **Bottleneck Architecture**: The bottleneck architecture with two projection matrices creates an efficient representation pathway.\n",
    "\n",
    "2. **Merged Inference**: A standout feature is the ability to merge weights for dramatically faster inference (43.10-51.49% speedup).\n",
    "\n",
    "3. **Parameter Efficiency**: Like LoRA, Bone's parameter efficiency improves with larger models, using lower percentages of parameters for larger models.\n",
    "\n",
    "4. **Inference Speed**: Even without merging, Bone models show competitive or better inference speeds compared to base models.\n",
    "\n",
    "5. **Targeted Module Selection**: By focusing only on key modules (q_proj, v_proj), Bone achieves effective adaptation."
   ]
  },
  {
   "cell_type": "markdown",
   "id": "72c50f78",
   "metadata": {},
   "source": [
    "## Comparison with LoRA\n",
    "\n",
    "Let's compare Bone with LoRA on similar models:"
   ]
  },
  {
   "cell_type": "code",
   "execution_count": null,
   "id": "1c0d0343",
   "metadata": {},
   "outputs": [],
   "source": [
    "# Comparison data between LoRA and Bone\n",
    "comparison_data = {\n",
    "    'Model': ['opt-125m', 'opt-350m', 'opt-1.3b'],\n",
    "    'LoRA Parameter %': [1.88, 1.90, 0.96],  # From LoRA benchmarks\n",
    "    'Bone Parameter %': [30.14, 30.39, 15.30],\n",
    "    'LoRA Overhead %': [-2.56, -4.81, -6.13],  # From LoRA benchmarks\n",
    "    'Bone Overhead %': [-0.66, -11.44, -3.38],\n",
    "    'Bone Merged %': [-51.49, -43.10, -48.75]\n",
    "}\n",
    "\n",
    "comparison_df = pd.DataFrame(comparison_data)\n",
    "comparison_df"
   ]
  },
  {
   "cell_type": "code",
   "execution_count": null,
   "id": "7ed26a65",
   "metadata": {},
   "outputs": [],
   "source": [
    "# Plot overhead comparison\n",
    "plt.figure(figsize=(12, 6))\n",
    "\n",
    "x = np.arange(len(comparison_df['Model']))\n",
    "width = 0.25\n",
    "\n",
    "plt.bar(x - width, comparison_df['LoRA Overhead %'], width, label='LoRA')\n",
    "plt.bar(x, comparison_df['Bone Overhead %'], width, label='Bone')\n",
    "plt.bar(x + width, comparison_df['Bone Merged %'], width, label='Bone Merged')\n",
    "\n",
    "plt.title('Inference Overhead Comparison: LoRA vs. Bone vs. Bone Merged')\n",
    "plt.xlabel('Model')\n",
    "plt.ylabel('Overhead % (negative = speedup)')\n",
    "plt.xticks(x, comparison_df['Model'])\n",
    "plt.legend()\n",
    "plt.grid(True, alpha=0.3)\n",
    "plt.show()"
   ]
  },
  {
   "cell_type": "markdown",
   "id": "75200a23",
   "metadata": {},
   "source": [
    "### Comparative Analysis\n",
    "\n",
    "The direct comparison between LoRA and Bone shows:\n",
    "\n",
    "1. **Parameter Efficiency**: LoRA is more parameter-efficient at the same bottleneck/rank settings (0.96-1.90% vs 15.30-30.39%). However, this comparison used bottleneck_size=64 for Bone, while typical values for efficiency might be 16-32.\n",
    "\n",
    "2. **Standard Inference**: Both methods show slight speedups in standard mode rather than overheads, with LoRA showing -2.56% to -6.13% and Bone showing -0.66% to -11.44%.\n",
    "\n",
    "3. **Merged Inference**: Bone's merged inference mode provides substantial speedups (-43.10% to -51.49%) that far exceed standard inference, making it particularly valuable for deployment.\n",
    "\n",
    "4. **Architecture Differences**: LoRA uses low-rank decomposition with two matrices, while Bone uses a bottleneck architecture with two projection matrices.\n",
    "\n",
    "5. **Trade-offs**: Bone with larger bottleneck sizes offers more adaptation capacity at the cost of more parameters, while LoRA focuses on minimal parameter counts. Bone's merged inference capability provides unique deployment advantages."
   ]
  },
  {
   "cell_type": "markdown",
   "id": "c0a37bf8",
   "metadata": {},
   "source": [
    "## References\n",
    "\n",
    "1. Han, K., Tang, R., Chen, H., & Liu, Z. (2023). BONE: Orthogonal Bottleneck Networks for Efficient Large Language Model Adaptation.\n",
    "2. Hu, E. J., Shen, Y., Wallis, P., Allen-Zhu, Z., Li, Y., Wang, S., ... & Chen, W. (2021). LoRA: Low-Rank Adaptation of Large Language Models. arXiv:2106.09685.\n",
    "3. Benchmarks run on Tesla T4 GPU with OPT model family (125M, 350M, 1.3B) on April 24, 2025."
   ]
  }
 ],
 "metadata": {
  "kernelspec": {
   "display_name": "cuda_env",
   "language": "python",
   "name": "python3"
  },
  "language_info": {
   "codemirror_mode": {
    "name": "ipython",
    "version": 3
   },
   "file_extension": ".py",
   "mimetype": "text/x-python",
   "name": "python",
   "nbconvert_exporter": "python",
   "pygments_lexer": "ipython3",
   "version": "3.12.3"
  }
 },
 "nbformat": 4,
 "nbformat_minor": 5
}
