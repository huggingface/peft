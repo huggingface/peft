{
  "cells": [
    {
      "cell_type": "code",
      "execution_count": null,
      "metadata": {
        "id": "kdOhtpergLCQ"
      },
      "outputs": [],
      "source": [
        "!git clone https://huggingface.co/spaces/smangrul/peft-lora-sd-dreambooth"
      ]
    },
    {
      "cell_type": "code",
      "execution_count": null,
      "metadata": {
        "id": "_LuGk9mihPx7"
      },
      "outputs": [],
      "source": [
        "%cd \"peft-lora-sd-dreambooth\"\n",
        "!pip install -r requirements.txt"
      ]
    },
    {
      "cell_type": "code",
      "execution_count": null,
      "metadata": {
        "id": "BYKO8e5ElJOX"
      },
      "outputs": [],
      "source": [
        "!python colab.py"
      ]
    }
  ],
  "metadata": {
    "accelerator": "GPU",
    "colab": {
      "provenance": []
    },
    "gpuClass": "premium",
    "kernelspec": {
      "display_name": "Python 3",
      "name": "python3"
    },
    "language_info": {
      "name": "python"
    }
  },
  "nbformat": 4,
  "nbformat_minor": 0
}
