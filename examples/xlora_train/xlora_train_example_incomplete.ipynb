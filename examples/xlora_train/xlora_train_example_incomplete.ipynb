{
 "cells": [
  {
   "cell_type": "markdown",
   "id": "3288987d",
   "metadata": {},
   "source": [
    "# Loading an X-LoRA model with PEFT, training to come!"
   ]
  },
  {
   "cell_type": "code",
   "execution_count": 1,
   "id": "8274a027-6bee-4a0b-995e-30fbe883ae4d",
   "metadata": {
    "tags": []
   },
   "outputs": [
    {
     "name": "stderr",
     "output_type": "stream",
     "text": [
      "/home/ericbuehler/miniconda3/envs/py3.12/lib/python3.12/site-packages/tqdm/auto.py:21: TqdmWarning: IProgress not found. Please update jupyter and ipywidgets. See https://ipywidgets.readthedocs.io/en/stable/user_install.html\n",
      "  from .autonotebook import tqdm as notebook_tqdm\n"
     ]
    },
    {
     "name": "stdout",
     "output_type": "stream",
     "text": [
      "The token has not been saved to the git credentials helper. Pass `add_to_git_credential=True` in this function directly or `--add-to-git-credential` if using via `huggingface-cli` if you want to set the git credential as well.\n",
      "Token is valid (permission: read).\n",
      "Your token has been saved to /home/ericbuehler/.cache/huggingface/token\n",
      "Login successful\n"
     ]
    },
    {
     "data": {
      "text/plain": [
       "('12.1', '2.4.0+cu121', 90100, True, True)"
      ]
     },
     "execution_count": 1,
     "metadata": {},
     "output_type": "execute_result"
    }
   ],
   "source": [
    "import os\n",
    "#os.environ[\"CUDA_VISIBLE_DEVICES\"] = \"0\"\n",
    "\n",
    "import torch\n",
    "from transformers import AutoModelForCausalLM, AutoTokenizer\n",
    "from transformers import BitsAndBytesConfig\n",
    "\n",
    "from peft import get_peft_model\n",
    "device = torch.device(\"cuda\")\n",
    "\n",
    "torch.version.cuda, torch.__version__, torch.backends.cudnn.version(), torch.backends.cudnn.enabled, torch.cuda.is_available()"
   ]
  },
  {
   "cell_type": "code",
   "execution_count": 2,
   "id": "3781cbdb-81c6-4d71-89a3-99b3350dd25d",
   "metadata": {},
   "outputs": [
    {
     "name": "stdout",
     "output_type": "stream",
     "text": [
      "NVIDIA GeForce RTX 4070 Laptop GPU\n"
     ]
    }
   ],
   "source": [
    "for i in range(torch.cuda.device_count()):\n",
    "   print(torch.cuda.get_device_properties(i).name)"
   ]
  },
  {
   "cell_type": "markdown",
   "id": "de85a04d-6503-49cc-ac21-8bb42386324e",
   "metadata": {},
   "source": [
    "### Parameters"
   ]
  },
  {
   "cell_type": "code",
   "execution_count": 5,
   "id": "37e0537b-a55f-4bf9-b0e1-0a1ae951fb68",
   "metadata": {
    "scrolled": true,
    "tags": []
   },
   "outputs": [
    {
     "name": "stderr",
     "output_type": "stream",
     "text": [
      "Loading checkpoint shards: 100%|██████████| 8/8 [00:05<00:00,  1.52it/s]\n"
     ]
    }
   ],
   "source": [
    "model_name= 'HuggingFaceH4/zephyr-7b-beta'\n",
    "\n",
    "bnb_config4bit = BitsAndBytesConfig(\n",
    "    load_in_4bit=True,\n",
    "    bnb_4bit_quant_type=\"nf4\",\n",
    "    bnb_4bit_compute_dtype=torch.bfloat16,\n",
    ")\n",
    "\n",
    "bnb_config8bit = BitsAndBytesConfig(\n",
    "    load_in_8bit=True,\n",
    ")\n",
    "\n",
    "model = AutoModelForCausalLM.from_pretrained(\n",
    "    model_name,\n",
    "    trust_remote_code=True,\n",
    "    device_map=\"cuda:0\",\n",
    "    torch_dtype=  torch.bfloat16,\n",
    "    #attn_implementation=\"flash_attention_2\",\n",
    ")\n",
    "model.config.use_cache = False\n",
    " \n",
    "tokenizer = AutoTokenizer.from_pretrained(model_name, trust_remote_code=True,\n",
    "                                         #device_map=\"cuda:0\",\n",
    "                                          device_map=\"auto\",\n",
    "                                         )\n",
    "tokenizer.pad_token = tokenizer.unk_token\n",
    "tokenizer.padding_side = \"right\" # Fix weird overflow issue with fp16 training\n",
    "tokenizer.add_bos_token, tokenizer.add_eos_token\n",
    "eos_token= tokenizer.eos_token_id"
   ]
  },
  {
   "cell_type": "markdown",
   "id": "8d5785ac-f3f3-44df-8a17-3d1979b8cd99",
   "metadata": {},
   "source": [
    "### Set up X-LoRA model based on pre-trained adaptors"
   ]
  },
  {
   "cell_type": "code",
   "execution_count": null,
   "id": "e15f67d3-dd2b-4352-be56-e9ddba845deb",
   "metadata": {
    "scrolled": true,
    "tags": []
   },
   "outputs": [],
   "source": [
    "from peft.tuners.xlora.config import XLoraConfig\n",
    "from peft.utils.peft_types import PeftType, TaskType\n",
    "\n",
    "adapters = [\n",
    "    \"lamm-mit/Zephyr_Bioinspired\",\n",
    "    \"lamm-mit/Zephyr_CoT\",\n",
    "    \"lamm-mit/Zephyr_Chemistry\",\n",
    "    \"lamm-mit/Zephyr_Math\",\n",
    "    \"lamm-mit/Zephyr_Physics\",\n",
    "    \"lamm-mit/Zephyr_Biology\",\n",
    "    \"lamm-mit/Zephyr_Mechanics-and-Materials\",\n",
    "    \"lamm-mit/Zephyr_Playtupus-Logical\",\n",
    "    \"lamm-mit/Zephyr_Protein-Mechanics\",\n",
    "]\n",
    "adapters = {str(i): file_name for i, file_name in enumerate(adapters)}\n",
    "\n",
    "peft_config = XLoraConfig(\n",
    "    task_type=TaskType.CAUSAL_LM,\n",
    "    peft_type=PeftType.XLORA,\n",
    "    hidden_size=model.config.hidden_size,\n",
    "    adapters=adapters,\n",
    "    xlora_depth=8,\n",
    "    xlora_size=2048,\n",
    "    layerwise_scalings=True,\n",
    "    xlora_dropout_p=0.2,\n",
    ")\n",
    "model = get_peft_model(model, peft_config).cuda()"
   ]
  },
  {
   "cell_type": "markdown",
   "id": "18307ac4",
   "metadata": {},
   "source": [
    "# Training script will come here!"
   ]
  }
 ],
 "metadata": {
  "environment": {
   "kernel": "python3",
   "name": ".m115",
   "type": "gcloud",
   "uri": "gcr.io/deeplearning-platform-release/:m115"
  },
  "kernelspec": {
   "display_name": "Python 3 (ipykernel)",
   "language": "python",
   "name": "python3"
  },
  "language_info": {
   "codemirror_mode": {
    "name": "ipython",
    "version": 3
   },
   "file_extension": ".py",
   "mimetype": "text/x-python",
   "name": "python",
   "nbconvert_exporter": "python",
   "pygments_lexer": "ipython3",
   "version": "3.12.4"
  }
 },
 "nbformat": 4,
 "nbformat_minor": 5
}
