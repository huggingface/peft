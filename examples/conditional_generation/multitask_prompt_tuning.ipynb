{
 "cells": [
  {
   "cell_type": "code",
   "execution_count": 1,
   "metadata": {},
   "outputs": [],
   "source": [
    "import random\n",
    "from datasets import load_dataset\n",
    "from transformers import set_seed\n",
    "\n",
    "total_samples = 10000\n",
    "set_seed(42)\n",
    "\n",
    "\n",
    "def get_sst2(split: str):\n",
    "    examples = load_dataset(\"sst2\")[split]\n",
    "    result_examples = []\n",
    "    for example in examples:\n",
    "        result_examples.append({})\n",
    "\n",
    "        result_examples[-1][\"input\"] = example[\"sentence\"].strip()\n",
    "        result_examples[-1][\"output\"] = \"positive\" if example[\"label\"] == 1 else \"negative\"\n",
    "\n",
    "        result_examples[-1][\"input\"] += \"</s>\"\n",
    "        result_examples[-1][\"output\"] += \"</s>\"\n",
    "\n",
    "    random.shuffle(result_examples)\n",
    "    result_examples = result_examples[:total_samples // 2]\n",
    "\n",
    "    return result_examples\n",
    "\n",
    "\n",
    "def get_mnli(split: str):\n",
    "    examples = load_dataset(\"multi_nli\")[split]\n",
    "    result_examples = []\n",
    "    for example in examples:\n",
    "        result_examples.append({})\n",
    "\n",
    "        result_examples[-1][\"input\"] = example[\"premise\"].strip() + \" \" + example[\"hypothesis\"].strip()\n",
    "\n",
    "        if example[\"label\"] == 0:\n",
    "            result_examples[-1][\"output\"] = \"entailment\"\n",
    "        elif example[\"label\"] == 1:\n",
    "            result_examples[-1][\"output\"] = \"neutral\"\n",
    "        else:\n",
    "            result_examples[-1][\"output\"] = \"contradiction\"\n",
    "\n",
    "        result_examples[-1][\"input\"] += \"</s>\"\n",
    "        result_examples[-1][\"output\"] += \"</s>\"\n",
    "\n",
    "    random.shuffle(result_examples)\n",
    "    result_examples = result_examples[:total_samples // 2]\n",
    "\n",
    "    return result_examples"
   ]
  },
  {
   "cell_type": "code",
   "execution_count": 12,
   "metadata": {
    "scrolled": false
   },
   "outputs": [
    {
     "name": "stdout",
     "output_type": "stream",
     "text": [
      "bin /Users/mayankmishra/miniconda3/envs/ai/lib/python3.9/site-packages/bitsandbytes/libbitsandbytes_cpu.so\n"
     ]
    },
    {
     "name": "stderr",
     "output_type": "stream",
     "text": [
      "/Users/mayankmishra/miniconda3/envs/ai/lib/python3.9/site-packages/bitsandbytes/cextension.py:33: UserWarning: The installed version of bitsandbytes was compiled without GPU support. 8-bit optimizers, 8-bit multiplication, and GPU quantization are unavailable.\n",
      "  warn(\"The installed version of bitsandbytes was compiled without GPU support. \"\n"
     ]
    }
   ],
   "source": [
    "from transformers import AutoModelForSeq2SeqLM, AutoTokenizer\n",
    "\n",
    "from peft import get_peft_model, MultitaskPromptTuningConfig, TaskType\n",
    "\n",
    "model_name = \"google/flan-t5-base\"\n",
    "\n",
    "peft_config = MultitaskPromptTuningConfig(\n",
    "    tokenizer_name_or_path=model_name,\n",
    "    num_tasks=2,\n",
    "    task_type=TaskType.SEQ_2_SEQ_LM,\n",
    "    prompt_tuning_init=\"TEXT\",\n",
    "    num_virtual_tokens=50,\n",
    "    num_transformer_submodules=1,\n",
    "    prompt_tuning_init_text=\"classify the following into either positive or negative, or entailment, neutral or contradiction:\"\n",
    ")\n",
    "\n",
    "tokenizer = AutoTokenizer.from_pretrained(model_name)\n",
    "model = AutoModelForSeq2SeqLM.from_pretrained(model_name)\n",
    "model = get_peft_model(model, peft_config)"
   ]
  },
  {
   "cell_type": "code",
   "execution_count": 19,
   "metadata": {},
   "outputs": [
    {
     "name": "stderr",
     "output_type": "stream",
     "text": [
      "Found cached dataset sst2 (/Users/mayankmishra/.cache/huggingface/datasets/sst2/default/2.0.0/9896208a8d85db057ac50c72282bcb8fe755accc671a57dd8059d4e130961ed5)\n"
     ]
    },
    {
     "data": {
      "application/vnd.jupyter.widget-view+json": {
       "model_id": "f283655596c7470fa55221991e4f6bf1",
       "version_major": 2,
       "version_minor": 0
      },
      "text/plain": [
       "  0%|          | 0/3 [00:00<?, ?it/s]"
      ]
     },
     "metadata": {},
     "output_type": "display_data"
    },
    {
     "name": "stderr",
     "output_type": "stream",
     "text": [
      "Found cached dataset multi_nli (/Users/mayankmishra/.cache/huggingface/datasets/multi_nli/default/0.0.0/591f72eb6263d1ab527561777936b199b714cda156d35716881158a2bd144f39)\n"
     ]
    },
    {
     "data": {
      "application/vnd.jupyter.widget-view+json": {
       "model_id": "b22ecd23dd1a4a5d8ef5c83813ce8967",
       "version_major": 2,
       "version_minor": 0
      },
      "text/plain": [
       "  0%|          | 0/3 [00:00<?, ?it/s]"
      ]
     },
     "metadata": {},
     "output_type": "display_data"
    },
    {
     "name": "stderr",
     "output_type": "stream",
     "text": [
      "Found cached dataset sst2 (/Users/mayankmishra/.cache/huggingface/datasets/sst2/default/2.0.0/9896208a8d85db057ac50c72282bcb8fe755accc671a57dd8059d4e130961ed5)\n"
     ]
    },
    {
     "data": {
      "application/vnd.jupyter.widget-view+json": {
       "model_id": "d46d4dec3e38468196c5026ceeb07bbc",
       "version_major": 2,
       "version_minor": 0
      },
      "text/plain": [
       "  0%|          | 0/3 [00:00<?, ?it/s]"
      ]
     },
     "metadata": {},
     "output_type": "display_data"
    }
   ],
   "source": [
    "from typing import Tuple\n",
    "from torch.utils.data import Dataset, DataLoader\n",
    "import torch\n",
    "\n",
    "class MyDataset(Dataset):\n",
    "    def __init__(self, split: str) -> None:\n",
    "        super().__init__()\n",
    "        if split == \"train\":\n",
    "            self.examples = get_sst2(split) + get_mnli(split)\n",
    "            random.shuffle(self.examples)\n",
    "        else:\n",
    "            self.examples = get_sst2(split)\n",
    "\n",
    "    def __getitem__(self, index) -> dict:\n",
    "        return self.examples[index]\n",
    "\n",
    "    def __len__(self) -> int:\n",
    "        return len(self.examples)\n",
    "\n",
    "    @classmethod\n",
    "    def collate_fn(cls, batch: dict) -> Tuple[torch.Tensor, torch.Tensor]:\n",
    "        input = [i[\"input\"] for i in batch]\n",
    "        input = tokenizer(input, add_special_tokens=False, return_tensors=\"pt\", padding=True)\n",
    "\n",
    "        output = [i[\"output\"] for i in batch]\n",
    "        output = tokenizer(output, add_special_tokens=False, return_tensors=\"pt\", padding=True).input_ids\n",
    "        output[output == tokenizer.pad_token_id] = -100\n",
    "\n",
    "        return {\n",
    "            \"input_ids\": input.input_ids,\n",
    "            \"attention_mask\": input.attention_mask,\n",
    "            \"labels\": output,\n",
    "        }\n",
    "\n",
    "\n",
    "train = DataLoader(MyDataset(\"train\"), shuffle=True, batch_size=8, collate_fn=MyDataset.collate_fn)\n",
    "val = DataLoader(MyDataset(\"validation\"), shuffle=False, batch_size=8, collate_fn=MyDataset.collate_fn)"
   ]
  },
  {
   "cell_type": "code",
   "execution_count": 1,
   "metadata": {},
   "outputs": [
    {
     "ename": "NameError",
     "evalue": "name 'model' is not defined",
     "output_type": "error",
     "traceback": [
      "\u001b[0;31m---------------------------------------------------------------------------\u001b[0m",
      "\u001b[0;31mNameError\u001b[0m                                 Traceback (most recent call last)",
      "\u001b[1;32m/Users/mayankmishra/Desktop/IBM/peft/test.ipynb Cell 4\u001b[0m in \u001b[0;36m4\n\u001b[1;32m      <a href='vscode-notebook-cell:/Users/mayankmishra/Desktop/IBM/peft/test.ipynb#W3sZmlsZQ%3D%3D?line=0'>1</a>\u001b[0m \u001b[39mfrom\u001b[39;00m \u001b[39mtorch\u001b[39;00m\u001b[39m.\u001b[39;00m\u001b[39moptim\u001b[39;00m\u001b[39m.\u001b[39;00m\u001b[39madamw\u001b[39;00m \u001b[39mimport\u001b[39;00m AdamW\n\u001b[1;32m      <a href='vscode-notebook-cell:/Users/mayankmishra/Desktop/IBM/peft/test.ipynb#W3sZmlsZQ%3D%3D?line=1'>2</a>\u001b[0m \u001b[39mfrom\u001b[39;00m \u001b[39mtqdm\u001b[39;00m \u001b[39mimport\u001b[39;00m tqdm\n\u001b[0;32m----> <a href='vscode-notebook-cell:/Users/mayankmishra/Desktop/IBM/peft/test.ipynb#W3sZmlsZQ%3D%3D?line=3'>4</a>\u001b[0m optimizer \u001b[39m=\u001b[39m AdamW(model\u001b[39m.\u001b[39mparameters(), lr\u001b[39m=\u001b[39m\u001b[39m1e-3\u001b[39m)\n\u001b[1;32m      <a href='vscode-notebook-cell:/Users/mayankmishra/Desktop/IBM/peft/test.ipynb#W3sZmlsZQ%3D%3D?line=5'>6</a>\u001b[0m n \u001b[39m=\u001b[39m \u001b[39m1000\u001b[39m\n\u001b[1;32m      <a href='vscode-notebook-cell:/Users/mayankmishra/Desktop/IBM/peft/test.ipynb#W3sZmlsZQ%3D%3D?line=6'>7</a>\u001b[0m step \u001b[39m=\u001b[39m \u001b[39m0\u001b[39m\n",
      "\u001b[0;31mNameError\u001b[0m: name 'model' is not defined"
     ]
    }
   ],
   "source": [
    "from torch.optim.adamw import AdamW\n",
    "from tqdm import tqdm\n",
    "\n",
    "optimizer = AdamW(model.parameters(), lr=1e-3)\n",
    "\n",
    "n = 1000\n",
    "step = 0\n",
    "train_ = tqdm(train)\n",
    "\n",
    "for batch in train_:\n",
    "    step += 1\n",
    "    loss = model(**batch)\n",
    "    loss.backward()\n",
    "    optimizer.step()\n",
    "    train_.set_postfix(f\"train loss = {loss}\")\n",
    "\n",
    "    if step % 1000 == 0:\n",
    "        loss = 0\n",
    "        for batch in val:\n",
    "            loss += model(**batch)\n",
    "        print(\"val loss =\", loss / len(val))\n",
    "\n",
    "model.save_pretrained(\"a.pt\")"
   ]
  }
 ],
 "metadata": {
  "kernelspec": {
   "display_name": "Python 3 (ipykernel)",
   "language": "python",
   "name": "python3"
  },
  "language_info": {
   "codemirror_mode": {
    "name": "ipython",
    "version": 3
   },
   "file_extension": ".py",
   "mimetype": "text/x-python",
   "name": "python",
   "nbconvert_exporter": "python",
   "pygments_lexer": "ipython3",
   "version": "3.9.13"
  }
 },
 "nbformat": 4,
 "nbformat_minor": 2
}
