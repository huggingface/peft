{
 "cells": [
  {
   "cell_type": "markdown",
   "id": "db4dc272-88fe-47ad-98fd-b94d4f840dca",
   "metadata": {},
   "source": [
    "# Tutorial on PEFT with DNA Language Models"
   ]
  },
  {
   "cell_type": "markdown",
   "id": "d381f473-0d37-4b5b-ae9e-d2b32bab7c04",
   "metadata": {},
   "source": [
    "This notebook is a tutorial on how to use parameter-efficient fine-tuning techniques from the PEFT library to fine-tune a DNA Language Model. This fine-tuned DNA-LM is used to solve a task from the nucleotide benchmark dataset."
   ]
  },
  {
   "cell_type": "markdown",
   "id": "23f460c3-d7e5-437f-a5e9-d029cd225bf8",
   "metadata": {},
   "source": [
    "### 1. Import relevant libraries"
   ]
  },
  {
   "cell_type": "code",
   "execution_count": 84,
   "id": "0a40abdf-ca1c-436f-a2af-603cd67a45a4",
   "metadata": {},
   "outputs": [],
   "source": [
    "import sklearn\n",
    "import torch\n",
    "import transformers \n",
    "import peft\n",
    "import tqdm\n",
    "import math"
   ]
  },
  {
   "cell_type": "markdown",
   "id": "c1bda6f2-34bb-4ce2-aa3f-3013548b0a28",
   "metadata": {},
   "source": [
    "### 2. Prepare datasets"
   ]
  },
  {
   "cell_type": "markdown",
   "id": "f4c61e59-457c-47d9-8929-5e8cd32d3125",
   "metadata": {},
   "source": [
    "We load the ```nucleotide_transformer_downstream_tasks``` dataset, that contains 18 downstream tasks from the Nucleotide Transformer paper. It provides a consistent genomics benchmark with both binary and mulit-class classification tasks."
   ]
  },
  {
   "cell_type": "code",
   "execution_count": 118,
   "id": "f5c0b3df-911a-4645-9140-99ee489515e8",
   "metadata": {},
   "outputs": [],
   "source": [
    "from datasets import load_dataset\n",
    "\n",
    "raw_dataset = load_dataset(\"InstaDeepAI/nucleotide_transformer_downstream_tasks\", \"H3\")"
   ]
  },
  {
   "cell_type": "markdown",
   "id": "bbb527c5-8077-4ce4-b093-ae627a5f253c",
   "metadata": {},
   "source": [
    "We'll use the \"H3\" subset of this dataset, which contains a total of 13,468 rows in the training data, and 1497 rows in the test data."
   ]
  },
  {
   "cell_type": "code",
   "execution_count": 125,
   "id": "efef4bb2-60d8-40d1-8777-2b665a87059c",
   "metadata": {},
   "outputs": [
    {
     "data": {
      "text/plain": [
       "DatasetDict({\n",
       "    train: Dataset({\n",
       "        features: ['sequence', 'name', 'label'],\n",
       "        num_rows: 8241\n",
       "    })\n",
       "    validation: Dataset({\n",
       "        features: ['sequence', 'name', 'label'],\n",
       "        num_rows: 1455\n",
       "    })\n",
       "    test: Dataset({\n",
       "        features: ['sequence', 'name', 'label'],\n",
       "        num_rows: 1497\n",
       "    })\n",
       "})"
      ]
     },
     "execution_count": 125,
     "metadata": {},
     "output_type": "execute_result"
    }
   ],
   "source": [
    "ds"
   ]
  },
  {
   "cell_type": "code",
   "execution_count": 148,
   "id": "1c1ed346-2654-4938-822a-4a51afce9cf7",
   "metadata": {},
   "outputs": [],
   "source": [
    "y = ds['train']['label']"
   ]
  },
  {
   "cell_type": "markdown",
   "id": "aafd37c8-6830-4070-a73b-cf62e72e901c",
   "metadata": {},
   "source": [
    "The dataset consists of three columns, ```sequence```, ```name``` and ```label```. An example is given below."
   ]
  },
  {
   "cell_type": "code",
   "execution_count": 149,
   "id": "eecd39d8-c073-4d3e-940e-fd83d46f83ab",
   "metadata": {},
   "outputs": [
    {
     "data": {
      "text/plain": [
       "{'sequence': 'TTAGGTGGTTTATTATTTAATTTTATGCTGATTAATTTATTTACTTTCGTATTCGGTTTTGTACCTTTAGCTATGATCTTAGCTAATTGAAGAGGGTGGTGTGATCTTTAACCATACCTTATTATCTTTCAGCTGCTTACCATTTTCTTATATTGATTTTTAGCGAAAGATTTTTATTCACAAGCTTTTTTTATCCTTAATGCTCGAATACTACAACAAAACAAAAAACATTAAACAGTTTTTAATTTTGTGAACAAACTGAATTACAAGGCCTTACATCTTATTTAGAATATATTAAGAAACAGAGGCCAACATGCCTTCTTAATTATATTGATATGGACCTCTGTCCTTCCTAAAAACGGGTTTTTGTTCGATGAAAAATCACCAGTAGAGCACCATATATGAATTTACAATCATTGTAGGGAAAAGAAAACTTGTTCTGCTTCGCCAATTGATTTCATTTCTTTTTTTCCTTTGTTTTTGTTGTATACTATTAATAT',\n",
       " 'name': 'iYLR134W_412873|0',\n",
       " 'label': 0}"
      ]
     },
     "execution_count": 149,
     "metadata": {},
     "output_type": "execute_result"
    }
   ],
   "source": [
    "ds['train'][0]"
   ]
  },
  {
   "cell_type": "markdown",
   "id": "92eccf3e-e846-4c59-af56-0e336ac5a1cd",
   "metadata": {},
   "source": [
    "We split out dataset into training, test, and validation."
   ]
  },
  {
   "cell_type": "code",
   "execution_count": 150,
   "id": "f0649bbd-e74e-4dd6-a564-c4d65e46dbbf",
   "metadata": {},
   "outputs": [],
   "source": [
    "from datasets import Dataset, DatasetDict\n",
    "\n",
    "train_valid_split = ds['train'].train_test_split(test_size=0.15, seed=42)\n",
    "\n",
    "train_valid_split = DatasetDict({\n",
    "    'train': train_valid_split['train'],\n",
    "    'validation': train_valid_split['test']\n",
    "})\n",
    "\n",
    "ds = DatasetDict({\n",
    "    'train': train_valid_split['train'],\n",
    "    'validation': train_valid_split['validation'],\n",
    "    'test': ds['test']\n",
    "})"
   ]
  },
  {
   "cell_type": "markdown",
   "id": "5424726f-a7ba-45d5-b449-36be9a98b8e6",
   "metadata": {},
   "source": [
    "Then, we generate our data and labels."
   ]
  },
  {
   "cell_type": "code",
   "execution_count": 165,
   "id": "75f267a9-82d1-4343-982e-9b1ea542a330",
   "metadata": {},
   "outputs": [],
   "source": [
    "def get_kmers(seq, k=6, stride=1):\n",
    "    return [seq[i:i + k] for i in range(0, len(seq), stride) if i + k <= len(seq)]"
   ]
  },
  {
   "cell_type": "code",
   "execution_count": 170,
   "id": "efa9441d-f44c-4ca3-b24c-fa5c853896cd",
   "metadata": {},
   "outputs": [],
   "source": [
    "test_sequences = []\n",
    "train_sequences = []\n",
    "val_sequences = []\n",
    "\n",
    "dataset_limit = 20\n",
    "\n",
    "for i in range(0, len(ds['train'])):\n",
    "    \n",
    "    if dataset_limit and i == dataset_limit:\n",
    "        break\n",
    "        \n",
    "    sequence = ds['train'][i]['sequence']\n",
    "    sequence = \"candida_glabrata \" + \" \".join(get_kmers(sequence))\n",
    "    sequence = tokenizer(sequence)[\"input_ids\"]\n",
    "    train_sequences.append(sequence)\n",
    "    \n",
    "\n",
    "for i in range(0, len(ds['validation'])):\n",
    "    if dataset_limit and i == dataset_limit:\n",
    "        break\n",
    "    sequence = ds['validation'][i]['sequence']\n",
    "    sequence = \"candida_glabrata \" + \" \".join(get_kmers(sequence))\n",
    "    sequence = tokenizer(sequence)[\"input_ids\"]\n",
    "    val_sequences.append(sequence)\n",
    "    \n",
    "\n",
    "for i in range(0, len(ds['test'])):\n",
    "    if dataset_limit and i == dataset_limit:\n",
    "        break\n",
    "    sequence = ds['test'][i]['sequence']\n",
    "    sequence = \"candida_glabrata \" + \" \".join(get_kmers(sequence))\n",
    "    sequence = tokenizer(sequence)[\"input_ids\"]\n",
    "    test_sequences.append(sequence)\n",
    "    \n",
    "\n",
    "train_labels = ds['train']['label']\n",
    "test_labels = ds['test']['label']\n",
    "val_labels = ds['validation']['label']\n",
    "\n",
    "if dataset_limit:\n",
    "    train_labels = train_labels[0:dataset_limit]\n",
    "    test_labels = test_labels[0:dataset_limit]\n",
    "    val_labels = val_labels[0:dataset_limit]"
   ]
  },
  {
   "cell_type": "markdown",
   "id": "0686955c-201a-427b-8bef-5c663edb85b8",
   "metadata": {},
   "source": [
    "Finally, we create a Dataset object for each our sets."
   ]
  },
  {
   "cell_type": "code",
   "execution_count": 171,
   "id": "445b4279-2446-46d6-af2a-ceb2638955c7",
   "metadata": {},
   "outputs": [],
   "source": [
    "import pandas as pd\n",
    "from datasets import Dataset\n",
    "\n",
    "a = {\"input_ids\": train_sequences, \"labels\": train_labels}\n",
    "df = pd.DataFrame.from_dict(a)\n",
    "train_dataset = Dataset.from_pandas(df)\n",
    "\n",
    "b = {\"input_ids\": val_sequences, \"labels\": val_labels}\n",
    "df = pd.DataFrame.from_dict(b)\n",
    "val_dataset = Dataset.from_pandas(df)\n",
    "\n",
    "c = {\"input_ids\": test_sequences, \"labels\": test_labels}\n",
    "df = pd.DataFrame.from_dict(c)\n",
    "test_dataset = Dataset.from_pandas(df)"
   ]
  },
  {
   "cell_type": "markdown",
   "id": "1d2ac6d9-c987-43e8-aed0-a50f29ef6db0",
   "metadata": {},
   "source": [
    "### 3. Load models\n"
   ]
  },
  {
   "cell_type": "markdown",
   "id": "400b53b6-554e-42c2-b636-29909d5ffbc2",
   "metadata": {},
   "source": [
    "We'll use a \"species-aware\" DNA Language Model, called Species-LM for our task. This can be loaded through HuggingFace."
   ]
  },
  {
   "cell_type": "code",
   "execution_count": 172,
   "id": "dac961f4-c450-4124-923e-f4ba9bbd5e07",
   "metadata": {},
   "outputs": [],
   "source": [
    "from transformers import AutoTokenizer, AutoModelForMaskedLM"
   ]
  },
  {
   "cell_type": "code",
   "execution_count": 173,
   "id": "e73fae58-03e9-4acc-b0fc-9bc810c7d366",
   "metadata": {},
   "outputs": [],
   "source": [
    "tokenizer = AutoTokenizer.from_pretrained(\"gagneurlab/SpeciesLM\", revision = \"downstream_species_lm\")\n",
    "lm = AutoModelForMaskedLM.from_pretrained(\"gagneurlab/SpeciesLM\", revision = \"downstream_species_lm\")"
   ]
  },
  {
   "cell_type": "code",
   "execution_count": 174,
   "id": "ca43b893-2d66-4e93-a08f-b17a92040709",
   "metadata": {},
   "outputs": [
    {
     "name": "stdout",
     "output_type": "stream",
     "text": [
      "True\n",
      "Done!\n"
     ]
    }
   ],
   "source": [
    "print(torch.cuda.is_available())\n",
    "lm.eval()\n",
    "lm.to(\"cuda\")\n",
    "print(\"Done!\")"
   ]
  },
  {
   "cell_type": "markdown",
   "id": "d05d51a7-b933-4793-95df-af7d4d510b13",
   "metadata": {},
   "source": [
    "### 4. Train model"
   ]
  },
  {
   "cell_type": "markdown",
   "id": "b5ce1985-c24e-4feb-a6d4-aacb909536f0",
   "metadata": {},
   "source": [
    "Now, we'll train our DNA Language Model with the training dataset. We'll add a linear layer in the final layer of our language model, and then, train all the parameteres of our model with the training dataset."
   ]
  },
  {
   "cell_type": "code",
   "execution_count": 175,
   "id": "3a34b2c0-6205-4d48-b1a6-371b50ca42de",
   "metadata": {},
   "outputs": [],
   "source": [
    "from transformers import DataCollatorWithPadding\n",
    "\n",
    "data_collator = DataCollatorWithPadding(tokenizer=tokenizer)"
   ]
  },
  {
   "cell_type": "code",
   "execution_count": 176,
   "id": "700540f4-0ab8-4f8a-a75c-416a6908af47",
   "metadata": {},
   "outputs": [],
   "source": [
    "import torch\n",
    "from torch import nn\n",
    "\n",
    "class DNA_LM(nn.Module):\n",
    "    def __init__(self, model, num_labels):\n",
    "        super(DNA_LM, self).__init__()\n",
    "        self.model = model\n",
    "        self.classifier = nn.Linear(768, num_labels)\n",
    "\n",
    "    def forward(self, input_ids, attention_mask=None, labels=None):\n",
    "        outputs = self.model(input_ids=input_ids, attention_mask=attention_mask, output_hidden_states=True)\n",
    "        sequence_output = outputs.hidden_states[-1]\n",
    "        # Use the [CLS] token for classification\n",
    "        cls_output = sequence_output[:, 0, :]\n",
    "        logits = self.classifier(cls_output)\n",
    "        \n",
    "        loss = None\n",
    "        if labels is not None:\n",
    "            loss_fct = nn.CrossEntropyLoss()\n",
    "            loss = loss_fct(logits.view(-1, self.classifier.out_features), labels.view(-1))\n",
    "\n",
    "        return (loss, logits) if loss is not None else logits\n",
    "\n",
    "# Number of classes for your classification task\n",
    "num_labels = 2\n",
    "classification_model = DNA_LM(lm, num_labels)"
   ]
  },
  {
   "cell_type": "code",
   "execution_count": 177,
   "id": "0af97341-8f95-41d9-9d91-1eb64da4b516",
   "metadata": {},
   "outputs": [],
   "source": [
    "from transformers import DataCollatorWithPadding\n",
    "\n",
    "data_collator = DataCollatorWithPadding(tokenizer=tokenizer)"
   ]
  },
  {
   "cell_type": "code",
   "execution_count": 178,
   "id": "d9ce6bc3-4f63-4b7b-b28d-d2553002e6db",
   "metadata": {},
   "outputs": [
    {
     "name": "stderr",
     "output_type": "stream",
     "text": [
      "/data/nasif12/home_if12/l_shrestha/.conda/envs/rahul_env/lib/python3.12/site-packages/transformers/training_args.py:1474: FutureWarning: `evaluation_strategy` is deprecated and will be removed in version 4.46 of 🤗 Transformers. Use `eval_strategy` instead\n",
      "  warnings.warn(\n",
      "Detected kernel version 4.18.0, which is below the recommended minimum of 5.5.0; this can cause the process to hang. It is recommended to upgrade the kernel to the minimum version or higher.\n"
     ]
    },
    {
     "data": {
      "text/html": [
       "\n",
       "    <div>\n",
       "      \n",
       "      <progress value='60' max='60' style='width:300px; height:20px; vertical-align: middle;'></progress>\n",
       "      [60/60 00:18, Epoch 30/30]\n",
       "    </div>\n",
       "    <table border=\"1\" class=\"dataframe\">\n",
       "  <thead>\n",
       " <tr style=\"text-align: left;\">\n",
       "      <th>Epoch</th>\n",
       "      <th>Training Loss</th>\n",
       "      <th>Validation Loss</th>\n",
       "    </tr>\n",
       "  </thead>\n",
       "  <tbody>\n",
       "    <tr>\n",
       "      <td>1</td>\n",
       "      <td>No log</td>\n",
       "      <td>0.656401</td>\n",
       "    </tr>\n",
       "    <tr>\n",
       "      <td>2</td>\n",
       "      <td>No log</td>\n",
       "      <td>0.652655</td>\n",
       "    </tr>\n",
       "    <tr>\n",
       "      <td>3</td>\n",
       "      <td>No log</td>\n",
       "      <td>0.649918</td>\n",
       "    </tr>\n",
       "    <tr>\n",
       "      <td>4</td>\n",
       "      <td>No log</td>\n",
       "      <td>0.646798</td>\n",
       "    </tr>\n",
       "    <tr>\n",
       "      <td>5</td>\n",
       "      <td>No log</td>\n",
       "      <td>0.643524</td>\n",
       "    </tr>\n",
       "    <tr>\n",
       "      <td>6</td>\n",
       "      <td>No log</td>\n",
       "      <td>0.640057</td>\n",
       "    </tr>\n",
       "    <tr>\n",
       "      <td>7</td>\n",
       "      <td>No log</td>\n",
       "      <td>0.636397</td>\n",
       "    </tr>\n",
       "    <tr>\n",
       "      <td>8</td>\n",
       "      <td>No log</td>\n",
       "      <td>0.633467</td>\n",
       "    </tr>\n",
       "    <tr>\n",
       "      <td>9</td>\n",
       "      <td>No log</td>\n",
       "      <td>0.634695</td>\n",
       "    </tr>\n",
       "    <tr>\n",
       "      <td>10</td>\n",
       "      <td>No log</td>\n",
       "      <td>0.638783</td>\n",
       "    </tr>\n",
       "    <tr>\n",
       "      <td>11</td>\n",
       "      <td>No log</td>\n",
       "      <td>0.645185</td>\n",
       "    </tr>\n",
       "    <tr>\n",
       "      <td>12</td>\n",
       "      <td>No log</td>\n",
       "      <td>0.653967</td>\n",
       "    </tr>\n",
       "    <tr>\n",
       "      <td>13</td>\n",
       "      <td>No log</td>\n",
       "      <td>0.665525</td>\n",
       "    </tr>\n",
       "    <tr>\n",
       "      <td>14</td>\n",
       "      <td>No log</td>\n",
       "      <td>0.673264</td>\n",
       "    </tr>\n",
       "    <tr>\n",
       "      <td>15</td>\n",
       "      <td>No log</td>\n",
       "      <td>0.685110</td>\n",
       "    </tr>\n",
       "    <tr>\n",
       "      <td>16</td>\n",
       "      <td>No log</td>\n",
       "      <td>0.702312</td>\n",
       "    </tr>\n",
       "    <tr>\n",
       "      <td>17</td>\n",
       "      <td>No log</td>\n",
       "      <td>0.719361</td>\n",
       "    </tr>\n",
       "    <tr>\n",
       "      <td>18</td>\n",
       "      <td>No log</td>\n",
       "      <td>0.736980</td>\n",
       "    </tr>\n",
       "    <tr>\n",
       "      <td>19</td>\n",
       "      <td>No log</td>\n",
       "      <td>0.755560</td>\n",
       "    </tr>\n",
       "    <tr>\n",
       "      <td>20</td>\n",
       "      <td>No log</td>\n",
       "      <td>0.773126</td>\n",
       "    </tr>\n",
       "    <tr>\n",
       "      <td>21</td>\n",
       "      <td>No log</td>\n",
       "      <td>0.789357</td>\n",
       "    </tr>\n",
       "    <tr>\n",
       "      <td>22</td>\n",
       "      <td>No log</td>\n",
       "      <td>0.804620</td>\n",
       "    </tr>\n",
       "    <tr>\n",
       "      <td>23</td>\n",
       "      <td>No log</td>\n",
       "      <td>0.819466</td>\n",
       "    </tr>\n",
       "    <tr>\n",
       "      <td>24</td>\n",
       "      <td>No log</td>\n",
       "      <td>0.831808</td>\n",
       "    </tr>\n",
       "    <tr>\n",
       "      <td>25</td>\n",
       "      <td>No log</td>\n",
       "      <td>0.842412</td>\n",
       "    </tr>\n",
       "    <tr>\n",
       "      <td>26</td>\n",
       "      <td>No log</td>\n",
       "      <td>0.850668</td>\n",
       "    </tr>\n",
       "    <tr>\n",
       "      <td>27</td>\n",
       "      <td>No log</td>\n",
       "      <td>0.857075</td>\n",
       "    </tr>\n",
       "    <tr>\n",
       "      <td>28</td>\n",
       "      <td>No log</td>\n",
       "      <td>0.862201</td>\n",
       "    </tr>\n",
       "    <tr>\n",
       "      <td>29</td>\n",
       "      <td>No log</td>\n",
       "      <td>0.865420</td>\n",
       "    </tr>\n",
       "    <tr>\n",
       "      <td>30</td>\n",
       "      <td>No log</td>\n",
       "      <td>0.866823</td>\n",
       "    </tr>\n",
       "  </tbody>\n",
       "</table><p>"
      ],
      "text/plain": [
       "<IPython.core.display.HTML object>"
      ]
     },
     "metadata": {},
     "output_type": "display_data"
    },
    {
     "data": {
      "text/plain": [
       "TrainOutput(global_step=60, training_loss=0.20707823435465494, metrics={'train_runtime': 18.5682, 'train_samples_per_second': 32.313, 'train_steps_per_second': 3.231, 'total_flos': 0.0, 'train_loss': 0.20707823435465494, 'epoch': 30.0})"
      ]
     },
     "execution_count": 178,
     "metadata": {},
     "output_type": "execute_result"
    }
   ],
   "source": [
    "from transformers import Trainer, TrainingArguments\n",
    "\n",
    "# Define training arguments\n",
    "training_args = TrainingArguments(\n",
    "    output_dir='./results',\n",
    "    evaluation_strategy=\"epoch\",\n",
    "    learning_rate=2e-5,\n",
    "    per_device_train_batch_size=16,\n",
    "    per_device_eval_batch_size=16,\n",
    "    num_train_epochs=30,\n",
    "    weight_decay=0.01,\n",
    ")\n",
    "\n",
    "# Initialize Trainer\n",
    "trainer = Trainer(\n",
    "    model=classification_model,\n",
    "    args=training_args,\n",
    "    train_dataset=train_dataset,\n",
    "    eval_dataset=val_dataset,\n",
    "    tokenizer=tokenizer,\n",
    "    data_collator=data_collator,\n",
    ")\n",
    "\n",
    "# Train the model\n",
    "trainer.train()\n"
   ]
  },
  {
   "cell_type": "markdown",
   "id": "ebc7e33a-caad-4412-84e3-3e1ce7d02ccd",
   "metadata": {},
   "source": [
    "### 5. Evaluation"
   ]
  },
  {
   "cell_type": "code",
   "execution_count": 179,
   "id": "38eb0273-ce7e-4770-8457-2f9609f6843b",
   "metadata": {},
   "outputs": [
    {
     "data": {
      "text/html": [],
      "text/plain": [
       "<IPython.core.display.HTML object>"
      ]
     },
     "metadata": {},
     "output_type": "display_data"
    },
    {
     "name": "stdout",
     "output_type": "stream",
     "text": [
      "[0 1 1 1 0 1 1 0 0 0 0 1 0 0 1 0 1 1 0 0]\n"
     ]
    }
   ],
   "source": [
    "# Generate predictions\n",
    "\n",
    "predictions = trainer.predict(test_dataset)\n",
    "logits = predictions.predictions\n",
    "predicted_labels = logits.argmax(axis=-1)\n",
    "print(predicted_labels)"
   ]
  },
  {
   "cell_type": "code",
   "execution_count": 180,
   "id": "327a1c3b-88d6-4430-8978-73a7cbdbb697",
   "metadata": {},
   "outputs": [
    {
     "name": "stdout",
     "output_type": "stream",
     "text": [
      "Accuracy: 0.7\n",
      "Precision: 0.7141414141414142\n",
      "Recall: 0.7\n",
      "F1-Score: 0.7\n"
     ]
    }
   ],
   "source": [
    "# Step 3: Evaluate the Predictions (Optional)\n",
    "from sklearn.metrics import accuracy_score, precision_recall_fscore_support\n",
    "\n",
    "accuracy = accuracy_score(test_labels, predicted_labels)\n",
    "print(f\"Accuracy: {accuracy}\")\n",
    "\n",
    "precision, recall, f1, _ = precision_recall_fscore_support(test_labels, predicted_labels, average='weighted')\n",
    "print(f\"Precision: {precision}\")\n",
    "print(f\"Recall: {recall}\")\n",
    "print(f\"F1-Score: {f1}\")\n"
   ]
  },
  {
   "cell_type": "markdown",
   "id": "c3091a4a-3550-4fa8-82f1-8f16b5c798e3",
   "metadata": {},
   "source": [
    "### <WIP> Embed the sequences"
   ]
  },
  {
   "cell_type": "markdown",
   "id": "4d9e7de7-73ed-4cb4-af92-9c907f45dab1",
   "metadata": {},
   "source": [
    "We embed the sequences in the training dataset using our DNA-Language Model. \n",
    "\n",
    "We start by creating a function that generates kmers for any given sequence (```get_kmers``` below)."
   ]
  },
  {
   "cell_type": "code",
   "execution_count": 91,
   "id": "61ed55e3-263d-4a57-8a05-640977244b8b",
   "metadata": {},
   "outputs": [],
   "source": [
    "def get_kmers(seq, k=6, stride=1):\n",
    "    return [seq[i:i + k] for i in range(0, len(seq), stride) if i + k <= len(seq)]"
   ]
  },
  {
   "cell_type": "markdown",
   "id": "9f751480-2d12-467b-8a54-ae59b3f23ab7",
   "metadata": {},
   "source": [
    "Then, we tokenize our sequences using the tokenizer."
   ]
  },
  {
   "cell_type": "markdown",
   "id": "63e8ae12-4047-41f9-88f3-6c84dea2f76a",
   "metadata": {},
   "source": [
    "Next, we create a ```torch.Tensor``` matrix from our sequences."
   ]
  },
  {
   "cell_type": "code",
   "execution_count": 18,
   "id": "c0470e67-450b-4fff-ac4e-9e8b46eb8e11",
   "metadata": {},
   "outputs": [],
   "source": [
    "tokenized_sequences = torch.tensor(sequences)"
   ]
  },
  {
   "cell_type": "markdown",
   "id": "a5238de6-297f-48e3-982f-eebf4f1a0c1b",
   "metadata": {},
   "source": [
    "Checking the shape of our tokenized sequences, we get:"
   ]
  },
  {
   "cell_type": "code",
   "execution_count": 19,
   "id": "ba166907-a24b-4700-a108-bd4027a5d540",
   "metadata": {},
   "outputs": [
    {
     "data": {
      "text/plain": [
       "torch.Size([5, 498])"
      ]
     },
     "execution_count": 19,
     "metadata": {},
     "output_type": "execute_result"
    }
   ],
   "source": [
    "tokenized_sequences.shape"
   ]
  },
  {
   "cell_type": "markdown",
   "id": "e40ac624-5095-4730-8d97-b2f29d2c66f6",
   "metadata": {},
   "source": [
    "We'll generate the embeddings for our tokenized sequences."
   ]
  },
  {
   "cell_type": "code",
   "execution_count": 17,
   "id": "24ab2868-7bb6-43d5-911a-e6668ee64b5a",
   "metadata": {},
   "outputs": [],
   "source": [
    "embedding = lm(tokenized_sequences.to('cuda'), output_hidden_states=True)[\"hidden_states\"]"
   ]
  },
  {
   "cell_type": "code",
   "execution_count": 18,
   "id": "1aff006b-9302-4144-aba3-449fa72ffe12",
   "metadata": {},
   "outputs": [
    {
     "data": {
      "text/plain": [
       "torch.Tensor"
      ]
     },
     "execution_count": 18,
     "metadata": {},
     "output_type": "execute_result"
    }
   ],
   "source": [
    "type(embedding[12])"
   ]
  },
  {
   "cell_type": "code",
   "execution_count": 19,
   "id": "9ba735ad-716b-4b32-bd5c-5d6a08670714",
   "metadata": {},
   "outputs": [],
   "source": [
    "embeddings = []\n",
    "embeddings.append(embedding[12])"
   ]
  },
  {
   "cell_type": "code",
   "execution_count": 20,
   "id": "489fac56-f605-43ee-a49a-e63e4c223af1",
   "metadata": {},
   "outputs": [
    {
     "name": "stderr",
     "output_type": "stream",
     "text": [
      "  0%|          | 0/1 [00:00<?, ?it/s]\n"
     ]
    },
    {
     "ename": "AttributeError",
     "evalue": "'tuple' object has no attribute 'cpu'",
     "output_type": "error",
     "traceback": [
      "\u001b[0;31m---------------------------------------------------------------------------\u001b[0m",
      "\u001b[0;31mAttributeError\u001b[0m                            Traceback (most recent call last)",
      "Cell \u001b[0;32mIn[20], line 12\u001b[0m\n\u001b[1;32m      9\u001b[0m             embedding \u001b[38;5;241m=\u001b[39m lm(tokenized_sequences[i \u001b[38;5;241m*\u001b[39m batch_size:(i\u001b[38;5;241m+\u001b[39m\u001b[38;5;241m1\u001b[39m)\u001b[38;5;241m*\u001b[39m(batch_size)]\u001b[38;5;241m.\u001b[39mto(device), output_hidden_states\u001b[38;5;241m=\u001b[39m\u001b[38;5;28;01mTrue\u001b[39;00m)[\u001b[38;5;124m\"\u001b[39m\u001b[38;5;124mhidden_states\u001b[39m\u001b[38;5;124m\"\u001b[39m]\n\u001b[1;32m     11\u001b[0m             \u001b[38;5;66;03m#embedding = torch.stack(embedding[12:], axis=0)\u001b[39;00m\n\u001b[0;32m---> 12\u001b[0m             embeddings\u001b[38;5;241m.\u001b[39mappend(\u001b[43membedding\u001b[49m\u001b[38;5;241;43m.\u001b[39;49m\u001b[43mcpu\u001b[49m())\n\u001b[1;32m     14\u001b[0m             \u001b[38;5;66;03m# embedding = lm(tokenized_sequences[i*batch_size:(i+1)*(batch_size)].to(device), output_hidden_states=True)[\"hidden_states\"]\u001b[39;00m\n\u001b[1;32m     15\u001b[0m             \u001b[38;5;66;03m# embedding = torch.stack(embedding[8:], axis=0)\u001b[39;00m\n\u001b[1;32m     16\u001b[0m             \u001b[38;5;66;03m# embedding = torch.mean(embedding[:,2:-1,:], axis=1)\u001b[39;00m\n\u001b[1;32m     17\u001b[0m             \u001b[38;5;66;03m# embeddings.append(embedding.cpu())\u001b[39;00m\n\u001b[1;32m     18\u001b[0m \n\u001b[1;32m     19\u001b[0m \u001b[38;5;66;03m#embeddings = torch.concat(embeddings, axis=0)\u001b[39;00m\n",
      "\u001b[0;31mAttributeError\u001b[0m: 'tuple' object has no attribute 'cpu'"
     ]
    }
   ],
   "source": [
    "embeddings = []\n",
    "batch_size = 64\n",
    "device = \"cuda\"\n",
    "count = 0\n",
    "\n",
    "for i in tqdm.tqdm(range(math.ceil(tokenized_sequences.shape[0]/batch_size))):\n",
    "    with torch.inference_mode():\n",
    "        with torch.autocast(device):\n",
    "            embedding = lm(tokenized_sequences[i * batch_size:(i+1)*(batch_size)].to(device), output_hidden_states=True)[\"hidden_states\"]\n",
    "            \n",
    "            #embedding = torch.stack(embedding[12:], axis=0)\n",
    "            embeddings.append(embedding.cpu())\n",
    "            \n",
    "            # embedding = lm(tokenized_sequences[i*batch_size:(i+1)*(batch_size)].to(device), output_hidden_states=True)[\"hidden_states\"]\n",
    "            # embedding = torch.stack(embedding[8:], axis=0)\n",
    "            # embedding = torch.mean(embedding[:,2:-1,:], axis=1)\n",
    "            # embeddings.append(embedding.cpu())\n",
    "\n",
    "#embeddings = torch.concat(embeddings, axis=0)"
   ]
  },
  {
   "cell_type": "code",
   "execution_count": 52,
   "id": "2512628e-bca4-481a-a8bd-470f28706494",
   "metadata": {},
   "outputs": [
    {
     "data": {
      "text/plain": [
       "13"
      ]
     },
     "execution_count": 52,
     "metadata": {},
     "output_type": "execute_result"
    }
   ],
   "source": [
    "tokenized"
   ]
  },
  {
   "cell_type": "code",
   "execution_count": 45,
   "id": "39854ef4-6a9c-4bf9-828e-faa067b3d632",
   "metadata": {},
   "outputs": [
    {
     "data": {
      "text/plain": [
       "torch.Size([28, 498, 768])"
      ]
     },
     "execution_count": 45,
     "metadata": {},
     "output_type": "execute_result"
    }
   ],
   "source": [
    "outputs.hidden_states[-1].shape"
   ]
  },
  {
   "cell_type": "code",
   "execution_count": 28,
   "id": "f5e49bc0-915d-4f03-9d44-a237b4944e82",
   "metadata": {},
   "outputs": [
    {
     "data": {
      "text/plain": [
       "torch.Size([28, 498, 768])"
      ]
     },
     "execution_count": 28,
     "metadata": {},
     "output_type": "execute_result"
    }
   ],
   "source": [
    "last_hidden_states = outputs.hidden_states[-1]\n",
    "last_hidden_states.shape"
   ]
  },
  {
   "cell_type": "code",
   "execution_count": 87,
   "id": "28fe82e7-2ba7-4c08-af21-669bb46c8e78",
   "metadata": {},
   "outputs": [
    {
     "data": {
      "text/plain": [
       "torch.Size([1055, 498, 768])"
      ]
     },
     "execution_count": 87,
     "metadata": {},
     "output_type": "execute_result"
    }
   ],
   "source": [
    "embeddings.shape"
   ]
  },
  {
   "cell_type": "markdown",
   "id": "12db58e1-0cac-42ac-bb54-2f82a1ac0436",
   "metadata": {},
   "source": [
    "Now, we'll train our DNA Language Model with the training dataset. We'll add a linear layer in the final layer of our language model, and then, train all the parameteres of our model with the training dataset."
   ]
  },
  {
   "cell_type": "markdown",
   "id": "d6d83cb9-fa6b-4e34-9837-857866e804e8",
   "metadata": {},
   "source": [
    "### TODO: Include implementation of PEFT library"
   ]
  }
 ],
 "metadata": {
  "kernelspec": {
   "display_name": "Python [conda env:.conda-rahul_env]",
   "language": "python",
   "name": "conda-env-.conda-rahul_env-py"
  },
  "language_info": {
   "codemirror_mode": {
    "name": "ipython",
    "version": 3
   },
   "file_extension": ".py",
   "mimetype": "text/x-python",
   "name": "python",
   "nbconvert_exporter": "python",
   "pygments_lexer": "ipython3",
   "version": "3.12.4"
  }
 },
 "nbformat": 4,
 "nbformat_minor": 5
}
